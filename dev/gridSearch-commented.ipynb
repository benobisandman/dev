{
 "cells": [
  {
   "cell_type": "code",
   "execution_count": null,
   "metadata": {},
   "outputs": [],
   "source": [
    "from pandas import read_csv,Series,DataFrame\n",
    "from numpy import sign,NaN,where,sqrt,mean\n",
    "from pandas.core.indexes.datetimes import DatetimeIndex\n",
    "import swifter"
   ]
  },
  {
   "cell_type": "markdown",
   "metadata": {},
   "source": [
    "# data"
   ]
  },
  {
   "cell_type": "code",
   "execution_count": null,
   "metadata": {},
   "outputs": [],
   "source": [
    "macro=read_csv('data.csv',index_col=[0],parse_dates=[0])\n",
    "macro.columns=['US','CN','UK','FR','DE','CA','AU','NZ','EU','JP','IT','CH','UAE','IN','NO','SE','ZA']"
   ]
  },
  {
   "cell_type": "code",
   "execution_count": null,
   "metadata": {},
   "outputs": [],
   "source": [
    "mkt=read_csv('BloombergCommos.csv',index_col=[0],parse_dates=[0])[1:].sort_index().astype(float).pct_change().dropna()\n",
    "mkt.columns=['SoybeanOil','Corn','WTI','Brent',\n",
    "'Cotton','Copper','HeatingOil','Coffee',\n",
    "'HRWWheat','Aluminium','LiveCattle','LeanHogs',\n",
    "'Lead','Nickel','Zinc','NaturalGas',\n",
    "'Gasoil','Soybean','Sugar','SoybeanMeal',\n",
    "'Wheat','Gasoline','Gold','Silver']"
   ]
  },
  {
   "cell_type": "code",
   "execution_count": null,
   "metadata": {},
   "outputs": [],
   "source": [
    "fees={'SoybeanOil':.0003,'Corn':.0003,'WTI':.0003,'Brent':.0003,\n",
    "'Cotton':.0003,'Copper':.0003,'HeatingOil':.0003,'Coffee':.0003,\n",
    "'HRWWheat':.0003,'Aluminium':.0003,'LiveCattle':.0003,'LeanHogs':.0003,\n",
    "'Lead':.0003,'Nickel':.0003,'Zinc':.0003,'NaturalGas':.0003,\n",
    "'Gasoil':.0003,'Soybean':.0003,'Sugar':.0003,'SoybeanMeal':.0003,\n",
    "'Wheat':.0003,'Gasoline':.0003,'Gold':.0003,'Silver':.0003}"
   ]
  },
  {
   "cell_type": "markdown",
   "metadata": {},
   "source": [
    "# functions"
   ]
  },
  {
   "cell_type": "code",
   "execution_count": null,
   "metadata": {},
   "outputs": [],
   "source": [
    "def AdjustSignal(signal,limit=.1):\n",
    "    newSignal=signal.copy()\n",
    "    for i in range(1,len(signal)):\n",
    "        x=signal[i]-newSignal[i-1]\n",
    "        newSignal[i]=newSignal[i-1]+min([abs(x),limit])*sign(x)\n",
    "    return newSignal"
   ]
  },
  {
   "cell_type": "code",
   "execution_count": null,
   "metadata": {},
   "outputs": [],
   "source": [
    "def perfs(signals):\n",
    "    strat=signals.mul(mkt[signals.columns],axis=0).sum(1).reindex(signals.index)\n",
    "    for x in signals.columns:\n",
    "        strat-=signals[x].diff().abs()*fees[x]\n",
    "    return strat"
   ]
  },
  {
   "cell_type": "code",
   "execution_count": null,
   "metadata": {},
   "outputs": [],
   "source": [
    "def avgSpace(row,eps,inputs,outputs,df):\n",
    "    x,y=row[inputs[0]],row[inputs[1]]\n",
    "    mask=(df[inputs[0]]>=(row[inputs[0]]-eps[0])) & (df[inputs[0]]<=row[inputs[0]]+eps[0])\n",
    "    mask &= (df[inputs[1]]>=(row[inputs[1]]-eps[1])) & (df[inputs[1]]<=row[inputs[1]]+eps[1])\n",
    "    tmp=df[mask][outputs].mean()\n",
    "    return tmp\n",
    "def sharpeSpace(row,eps,inputs,outputs,df):\n",
    "    x,y=row[inputs[0]],row[inputs[1]]\n",
    "    mask=(df[inputs[0]]>=(row[inputs[0]]-eps[0])) & (df[inputs[0]]<=row[inputs[0]]+eps[0])\n",
    "    mask &= (df[inputs[1]]>=(row[inputs[1]]-eps[1])) & (df[inputs[1]]<=row[inputs[1]]+eps[1])\n",
    "    tmp=df[mask][outputs]\n",
    "    tmp=tmp.mean()/tmp.std()\n",
    "    return tmp"
   ]
  },
  {
   "cell_type": "code",
   "execution_count": null,
   "metadata": {},
   "outputs": [],
   "source": [
    "from plotly.graph_objects import Figure, Scatter\n",
    "def chart(strat,title,bench=None,width=1000,height=600,outsample=None,stratName='Strategy',benchName='Benchmark',save=None):\n",
    "    fig=Figure()\n",
    "    if type(bench)==Series or type(bench)==DataFrame:\n",
    "        d=strat.to_frame('Strat').join(bench.rename('Benchmark'),how='left').fillna(0)\n",
    "    else:\n",
    "        d=strat.to_frame('Strat').fillna(0)\n",
    "    # d=d[d.index>='2016-01-01']\n",
    "    d=d[d.index>=strat.replace(0,NaN).dropna().index.min()]\n",
    "    fig.add_trace(Scatter(x=d.index,y=d.Strat.cumsum(),mode='lines',line=dict(width=2.5,color='gold'),name=stratName))\n",
    "    if type(bench)==Series or type(bench)==DataFrame:\n",
    "        fig.add_trace(Scatter(x=d.index,y=d.Benchmark.cumsum(),mode='lines',line=dict(width=2.5,color='white'),name=benchName))\n",
    "    annotations=[]\n",
    "    if type(outsample)==DatetimeIndex:\n",
    "        annotations.append(dict(xref='paper', yref='paper', x=0.5, y=1,xanchor='center', yanchor='bottom',text= title+' : '+str(round(d.Strat.mean()/d.Strat.std()*sqrt(252),2))+' ('+str(round(d.Strat.reindex(outsample).mean()/d.Strat.reindex(outsample).std()*sqrt(252),2))+')',font=dict(family='Arial',size=30,color='white'),showarrow=False))\n",
    "    else:\n",
    "        annotations.append(dict(xref='paper', yref='paper', x=0.5, y=1,xanchor='center', yanchor='bottom',text= title+' : '+str(round(d.Strat.mean()/d.Strat.std()*sqrt(252),2)),font=dict(family='Arial',size=30,color='white'),showarrow=False))\n",
    "    fig.update_layout(annotations=annotations,autosize=False,width=width,height=height,font=dict(size=16,color=\"white\"),legend=dict(y=-0.17,font=dict(family='Arial',size=18,color='white'),orientation='h'),paper_bgcolor='rgb(30,30,30)',plot_bgcolor='rgb(30,30,30)')\n",
    "    fig.update_layout(yaxis_tickformat='.0%')\n",
    "    fig.update_xaxes(color='white',showgrid=False,tickangle=0,tickfont_size=18)\n",
    "    fig.update_yaxes(color='white',gridcolor='grey',tickfont_size=18,zerolinewidth=0,zerolinecolor=\"grey\",title='Cumulative Returns')\n",
    "    if type(outsample)==DatetimeIndex:\n",
    "        fig.add_vrect(x0=outsample.min(),x1=outsample.max(),fillcolor='gold',layer='below',opacity=.25,line_width=0)\n",
    "    if save!=None:\n",
    "        fig.write_image(save)\n",
    "    fig.show()"
   ]
  },
  {
   "cell_type": "code",
   "execution_count": null,
   "metadata": {},
   "outputs": [],
   "source": [
    "from sklearn.model_selection import train_test_split\n",
    "from pickle import dump\n",
    "def Trend(indicator,assetsW,lag,window,limit=None):\n",
    "    \"\"\"generates signals\n",
    "\n",
    "    Args:\n",
    "        indicator (DataFrame): indicators used\n",
    "        assetsW (DataFrame): assets on which we apply signals\n",
    "        lag (int): lag\n",
    "        window (int): window\n",
    "        limit (float, optional): Max Turnover per day. Defaults to None.\n",
    "\n",
    "    Returns:\n",
    "        DataFrame: _description_\n",
    "    \"\"\"\n",
    "    sg=indicator.diff(window).apply(sign).reindex(assetsW.index).ffill().shift(1+lag)\n",
    "    if limit==None:\n",
    "        return assetsW.mul(sg,axis=0)\n",
    "    else:\n",
    "        return assetsW.mul(AdjustSignal(sg,limit=limit),axis=0)\n",
    "def GSTrend(indicator,assetsW,title,lags=range(1,20),windows=range(1,25,1),eps=[2,1],target='sharpeCV',outsample='2021-01-01',limit=None,smooth=avgSpace,cvType=min):\n",
    "    \"\"\"Creates grid search and smoothing of grid search to find optimal parameters on insample with cross validation. Then implements strategy on complete dataset and creates chart\n",
    "\n",
    "    Args:\n",
    "        indicator (DataFrame): Indicator\n",
    "        assetsW (DataFrame): Assets on which we implement the strategy\n",
    "        title (str): Name of strategy\n",
    "        lags (range, optional): Lags to test in grid search. Defaults to range(1,20).\n",
    "        windows (range, optional): Windows to test in grid search. Defaults to range(1,25,1).\n",
    "        eps (list, optional): range of values for smoothing. Defaults to [2,10].\n",
    "        target (str, optional): metric used to find best parameters. Defaults to 'sharpeCV'.\n",
    "        outsample (str, optional): Date when the outsample starts. Defaults to '2021-01-01'.\n",
    "        limit (float, optional): maximum turnover daily. Defaults to None.\n",
    "        smooth (function, optional): function used to smooth the grid search (either avgSpace or sharpeSpace). Defaults to avgSpace.\n",
    "        cvType (function, optional): function used for cross validation (either min or mean). Defaults to min.\n",
    "    \"\"\"\n",
    "    assetsWTR=assetsW[assetsW.index<outsample]\n",
    "    tr,te=train_test_split(assetsWTR.index,test_size=0.5,shuffle=False)\n",
    "    res=[]\n",
    "    for window in windows:\n",
    "        if limit==None:\n",
    "            d=indicator.diff(window).apply(sign).reindex(assetsWTR.index).ffill().dropna()\n",
    "        else:\n",
    "            d=AdjustSignal(indicator.diff(window).apply(sign).reindex(assetsWTR.index).ffill().dropna(),limit=limit)\n",
    "        for lag in lags:\n",
    "            sg=d.shift(1+lag)\n",
    "            strat=perfs(assetsWTR.mul(sg,axis=0))\n",
    "            stratTR=strat.reindex(tr)\n",
    "            stratTE=strat.reindex(te)\n",
    "            sh=strat.mean()/strat.std()*sqrt(252)\n",
    "            shTR=stratTR.mean()/stratTR.std()*sqrt(252)\n",
    "            shTE=stratTE.mean()/stratTE.std()*sqrt(252)\n",
    "            pr=(1+strat).cumprod()\n",
    "            acc=(perfs(assetsWTR).apply(sign)*strat.apply(sign)).clip(0,1)\n",
    "            accTR=acc.reindex(tr)\n",
    "            accTE=acc.reindex(te)\n",
    "            res.append([lag,window,sh,cvType([shTR,shTE]),acc.mean(),cvType([accTR.mean(),accTE.mean()]),\n",
    "            (pr/pr.cummax()-1).min()])\n",
    "    res=DataFrame(res,columns=['lag','window','sharpe','sharpeCV','accuracy','accuracyCV','maxDD'])\n",
    "    # dump(res,open('GridSearch/'+title+'.p','wb'))\n",
    "    res=res[['lag','window']].join(res.swifter.apply(lambda x: smooth(x,eps,['lag','window'],['sharpe','sharpeCV','accuracy','accuracyCV','maxDD'],res),axis=1))\n",
    "    bestLag,bestWindow=res.sort_values(by=target,ascending=False)[['lag','window']].iloc[0,:2]\n",
    "    sg=Trend(indicator,assetsW,bestLag,bestWindow)\n",
    "    strat=perfs(sg)\n",
    "    # chart(strat=strat,title=title+' lag '+str(bestLag)+' window '+str(bestWindow)+' : ',bench=perfs(assetsW).rename('Bench'),width=1000,height=600,outsample=bbg[bbg.index>=outsample].index,save='Charts/'+title+'.png')\n",
    "    chart(strat=strat,title=title+' lag '+str(bestLag)+' window '+str(bestWindow)+' : ',bench=perfs(assetsW).rename('Bench'),width=1000,height=600,outsample=bbg[bbg.index>=outsample].index)\n",
    "    # dump(sg,open('Weights/'+title+'.p','wb'))\n",
    "    # dump(strat,open('Returns/'+title+'.p','wb'))"
   ]
  },
  {
   "cell_type": "code",
   "execution_count": null,
   "metadata": {},
   "outputs": [],
   "source": [
    "def createAssets(long,short=None):\n",
    "    if long!=None:\n",
    "        temp=DataFrame(index=bbg.index,columns=[long])\n",
    "        temp[long]=1\n",
    "        if short!=None:\n",
    "            temp[short]=-1\n",
    "    else:\n",
    "        temp=DataFrame(index=bbg.index,columns=[short])\n",
    "        temp[short]=-1\n",
    "    return temp\n",
    "def createIndicator(db,long):\n",
    "    return db[long]"
   ]
  },
  {
   "cell_type": "code",
   "execution_count": null,
   "metadata": {},
   "outputs": [],
   "source": [
    "def createStrat(title,dbIndic,longIndicator,longAsset,shortAsset=None,lags=range(1,20),windows=range(1,25,1),eps=[2,1],target='sharpeCV',outsample='2021-01-01',limit=None,smooth=avgSpace,cvType=min):\n",
    "    \"\"\"_summary_\n",
    "\n",
    "    Args:\n",
    "        title (str): name of strategy\n",
    "        dbIndic (DataFrame): dataframe with indicators\n",
    "        longIndicator (str):\n",
    "        longAsset (str): asset on which we are long\n",
    "        shortAsset (str, optional): asset on which we are short. Defaults to None.\n",
    "        lags (range, optional): lags to test in grid search. Defaults to range(1,20).\n",
    "        windows (range, optional): windows to test in grid search. Defaults to range(1,25,1).\n",
    "        eps (list, optional): range of values for smoothing. Defaults to [2,1].\n",
    "        target (str, optional): metric used to find best parameters. Defaults to 'sharpeCV'.\n",
    "        outsample (str, optional): Date when the outsample starts. Defaults to '2021-01-01'.\n",
    "        limit (float, optional): maximum turnover daily. Defaults to None.\n",
    "        smooth (function, optional): function used to smooth the grid search (either avgSpace or sharpeSpace). Defaults to avgSpace.\n",
    "        cvType (function, optional): function used for cross validation (either min or mean). Defaults to min.\n",
    "    \"\"\"\n",
    "    assetsW=createAssets(long=longAsset,short=shortAsset)\n",
    "    indicator=createIndicator(long=longIndicator,short=shortIndicator)\n",
    "    GSTrend(indicator=indicator,assetsW=assetsW,title=title,lags=lags,windows=windows,eps=eps,target=target,outsample=outsample,limit=limit,smooth=smooth,cvType=cvType)"
   ]
  },
  {
   "cell_type": "markdown",
   "metadata": {},
   "source": [
    "# strategies"
   ]
  },
  {
   "cell_type": "markdown",
   "metadata": {},
   "source": [
    "## config"
   ]
  },
  {
   "cell_type": "code",
   "execution_count": null,
   "metadata": {},
   "outputs": [],
   "source": [
    "# exemple de config : 1. trader HRW Wheat en momentum des US 2. trader Wheat en mean rev du Canada\n",
    "strats={\n",
    "    'HRWWheat':{'longIndicator':'US','longAsset':'HRWWheat','shortAsset':None},\n",
    "    'Wheat':{'longIndicator':'CA','longAsset':None,'shortAsset':'Wheat'}\n",
    "}"
   ]
  },
  {
   "cell_type": "markdown",
   "metadata": {},
   "source": [
    "## exec"
   ]
  },
  {
   "cell_type": "code",
   "execution_count": null,
   "metadata": {},
   "outputs": [],
   "source": [
    "from tqdm import tqdm\n",
    "from warnings import filterwarnings\n",
    "filterwarnings('ignore')\n",
    "for title in tqdm(strats.keys()):\n",
    "    createStrat(title=title,\n",
    "    dbIndic=macro.copy(),\n",
    "    longIndicator=strats[title]['longIndicator'],\n",
    "    longAsset=strats[title]['longAsset'],\n",
    "    shortAsset=strats[title]['shortAsset'],\n",
    "    lags=range(1,20),\n",
    "    windows=range(1,25,1),\n",
    "    eps=[2,1],\n",
    "    target='sharpeCV',outsample='2021-07-01',limit=None,\n",
    "    smooth=avgSpace,cvType=min\n",
    "    )\n",
    "# smooth --> avgSpace ou sharpeSpace\n",
    "# cvType --> min ou mean"
   ]
  }
 ],
 "metadata": {
  "kernelspec": {
   "display_name": "base",
   "language": "python",
   "name": "python3"
  },
  "language_info": {
   "codemirror_mode": {
    "name": "ipython",
    "version": 3
   },
   "file_extension": ".py",
   "mimetype": "text/x-python",
   "name": "python",
   "nbconvert_exporter": "python",
   "pygments_lexer": "ipython3",
   "version": "3.9.7"
  }
 },
 "nbformat": 4,
 "nbformat_minor": 2
}
